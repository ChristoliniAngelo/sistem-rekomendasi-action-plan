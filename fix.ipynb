{
 "cells": [
  {
   "cell_type": "markdown",
   "metadata": {},
   "source": [
    "Sistem Rekomendasi Improvement Plan"
   ]
  },
  {
   "cell_type": "markdown",
   "metadata": {},
   "source": [
    "Import Library"
   ]
  },
  {
   "cell_type": "code",
   "execution_count": null,
   "metadata": {},
   "outputs": [],
   "source": [
    "pip install Sastrawi"
   ]
  },
  {
   "cell_type": "code",
   "execution_count": null,
   "metadata": {},
   "outputs": [],
   "source": [
    "import pandas as pd\n",
    "import numpy as np\n",
    "import tensorflow as tf\n",
    "from sklearn.feature_extraction.text import TfidfVectorizer\n",
    "from sklearn.metrics.pairwise import cosine_similarity\n",
    "from sklearn.preprocessing import normalize\n",
    "import nltk\n",
    "from nltk.tokenize import word_tokenize\n",
    "from Sastrawi.StopWordRemover.StopWordRemoverFactory import StopWordRemoverFactory\n",
    "from tensorflow.keras.layers import Input, Dense, Embedding, Flatten, Concatenate\n",
    "from tensorflow.keras.models import Model\n",
    "from tensorflow.keras.optimizers import Adam"
   ]
  },
  {
   "cell_type": "code",
   "execution_count": null,
   "metadata": {},
   "outputs": [],
   "source": [
    "nltk.download('punkt')"
   ]
  },
  {
   "cell_type": "markdown",
   "metadata": {},
   "source": [
    "Data Wrangling\n"
   ]
  },
  {
   "cell_type": "code",
   "execution_count": null,
   "metadata": {},
   "outputs": [],
   "source": [
    "df = pd.read_excel('datasets\\INI.xlsx', header=1)\n",
    "df.drop(columns=['NO'], inplace=True)\n",
    "\n",
    "df['Division'].fillna(method='ffill', inplace=True)\n",
    "df['Project Title'].fillna(method='ffill', inplace=True)\n",
    "df['Location'].fillna(method='ffill', inplace=True)\n",
    "df['Department'].fillna(method='ffill', inplace=True)\n",
    "\n",
    "df['Location'] = df['Location'].str.capitalize()\n",
    "\n",
    "df"
   ]
  },
  {
   "cell_type": "code",
   "execution_count": null,
   "metadata": {},
   "outputs": [],
   "source": [
    "df.describe()"
   ]
  },
  {
   "cell_type": "code",
   "execution_count": null,
   "metadata": {},
   "outputs": [],
   "source": [
    "import matplotlib.pyplot as plt\n",
    "\n",
    "plt.figure(figsize=(10, 8))\n",
    "df['Location'].value_counts().plot.pie(autopct='%1.1f%%')\n",
    "plt.title('Proporsi Data Improvement Berdasarkan Lokasi')\n",
    "plt.ylabel('')\n",
    "plt.show()"
   ]
  },
  {
   "cell_type": "markdown",
   "metadata": {},
   "source": [
    "Data Preproccessing"
   ]
  },
  {
   "cell_type": "code",
   "execution_count": null,
   "metadata": {},
   "outputs": [],
   "source": [
    "stopword_factory = StopWordRemoverFactory()\n",
    "stopwords = stopword_factory.get_stop_words()"
   ]
  },
  {
   "cell_type": "code",
   "execution_count": null,
   "metadata": {},
   "outputs": [],
   "source": [
    "def preprocess_text(text):\n",
    "    tokens = word_tokenize(text.lower())\n",
    "    tokens = [word for word in tokens if word.isalpha()]\n",
    "    tokens = [word for word in tokens if word not in stopwords]\n",
    "    return ' '.join(tokens)"
   ]
  },
  {
   "cell_type": "code",
   "execution_count": null,
   "metadata": {},
   "outputs": [],
   "source": [
    "df['Improve'] = df['Improve'].apply(preprocess_text)"
   ]
  },
  {
   "cell_type": "code",
   "execution_count": null,
   "metadata": {},
   "outputs": [],
   "source": [
    "tfidf_vectorizer = TfidfVectorizer()\n",
    "tfidf_matrix = tfidf_vectorizer.fit_transform(df['Improve'])\n",
    "tfidf_matrix_normalized = normalize(tfidf_matrix)"
   ]
  },
  {
   "cell_type": "markdown",
   "metadata": {},
   "source": [
    "Sistem Rekomendasi"
   ]
  },
  {
   "cell_type": "code",
   "execution_count": null,
   "metadata": {},
   "outputs": [],
   "source": [
    "num_projects = len(df['Project Title'].unique())\n",
    "num_locations = len(df['Location'].unique())\n",
    "\n",
    "project_input = Input(shape=(1,))\n",
    "location_input = Input(shape=(1,))\n",
    "\n",
    "project_embedding = Embedding(num_projects, 50)(project_input)\n",
    "location_embedding = Embedding(num_locations, 50)(location_input)\n",
    "\n",
    "project_flatten = Flatten()(project_embedding)\n",
    "location_flatten = Flatten()(location_embedding)\n",
    "\n",
    "concatenated = Concatenate()([project_flatten, location_flatten])\n",
    "\n",
    "dense1 = Dense(128, activation='relu')(concatenated)\n",
    "output = Dense(tfidf_matrix_normalized.shape[1], activation='sigmoid')(dense1)\n",
    "\n",
    "model = Model(inputs=[project_input, location_input], outputs=output)\n",
    "model.compile(optimizer=Adam(), loss='binary_crossentropy')"
   ]
  },
  {
   "cell_type": "code",
   "execution_count": null,
   "metadata": {},
   "outputs": [],
   "source": [
    "split_idx = int(0.8 * len(df))  # 80% data train, 20% data validasi\n",
    "train_data = {\n",
    "    'Project Title': df['Project Title'].iloc[:split_idx],\n",
    "    'Location': df['Location'].iloc[:split_idx]\n",
    "}\n",
    "train_labels = tfidf_matrix_normalized[:split_idx]\n",
    "\n",
    "validation_data = {\n",
    "    'Project Title': df['Project Title'].iloc[split_idx:],\n",
    "    'Location': df['Location'].iloc[split_idx:]\n",
    "}\n",
    "validation_labels = tfidf_matrix_normalized[split_idx:]"
   ]
  },
  {
   "cell_type": "code",
   "execution_count": null,
   "metadata": {},
   "outputs": [],
   "source": [
    "model.fit([train_data['Project Title'], \n",
    "           train_data['Location']], \n",
    "           train_labels, \n",
    "           epochs=10, \n",
    "           batch_size=32, \n",
    "           validation_data=([validation_data['Project Title'], \n",
    "                             validation_data['Location']], \n",
    "                             validation_labels))\n"
   ]
  },
  {
   "cell_type": "code",
   "execution_count": null,
   "metadata": {},
   "outputs": [],
   "source": [
    "def recommend_improvement(project_title, location):\n",
    "    project_idx = df[df['Project Title'] == project_title].index\n",
    "    location_idx = df[df['Location'] == location].index\n",
    "\n",
    "    prediction = model.predict([np.array(project_idx), np.array(location_idx)])\n",
    "    recommended_improvement_idx = np.argsort(prediction[0])[::-1][:5]\n",
    "\n",
    "    return df.iloc[recommended_improvement_idx]['Improve']"
   ]
  },
  {
   "cell_type": "markdown",
   "metadata": {},
   "source": [
    "Contoh "
   ]
  },
  {
   "cell_type": "code",
   "execution_count": null,
   "metadata": {},
   "outputs": [],
   "source": [
    "project_title_input = input(\"Masukkan judul proyek: \")\n",
    "location_input = input(\"Masukkan lokasi proyek: \")\n",
    "\n",
    "recommended_improvements = recommend_improvement(project_title_input, location_input)\n",
    "print(\"Rekomendasi Improvement:\")\n",
    "for idx, improvement in enumerate(recommended_improvements, 1):\n",
    "    print(f\"{idx}. {improvement}\")"
   ]
  }
 ],
 "metadata": {
  "kernelspec": {
   "display_name": "Python 3",
   "language": "python",
   "name": "python3"
  },
  "language_info": {
   "codemirror_mode": {
    "name": "ipython",
    "version": 3
   },
   "file_extension": ".py",
   "mimetype": "text/x-python",
   "name": "python",
   "nbconvert_exporter": "python",
   "pygments_lexer": "ipython3",
   "version": "3.11.8"
  }
 },
 "nbformat": 4,
 "nbformat_minor": 2
}
